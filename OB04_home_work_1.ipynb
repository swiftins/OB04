{
 "cells": [
  {
   "cell_type": "code",
   "execution_count": null,
   "metadata": {},
   "outputs": [],
   "source": [
    "#Шаг 1: Создайте абстрактный класс для оружия\n",
    "#Создайте абстрактный класс Weapon, который будет содержать абстрактный метод attack().\n",
    "\n",
    "from abc import ABC, abstractmethod\n",
    "class Weapon(ABC):\n",
    "    @abstractmethod\n",
    "    def attack(self):\n",
    "        pass\n",
    "\n"
   ]
  },
  {
   "cell_type": "code",
   "execution_count": null,
   "metadata": {},
   "outputs": [],
   "source": [
    "#Реализуйте конкретные типы оружия\n",
    "#Создайте несколько классов, унаследованных от Weapon, например, \n",
    "#Sword и Bow. Каждый из этих классов реализует метод attack() своим уникальным способом.\n",
    "class Sword(Weapon):\n",
    "    def attack(self):\n",
    "        print(\"Боец наносит удар мечом.\")\n",
    "\n",
    "class Bow(Weapon):\n",
    "    def attack(self):\n",
    "        print(\"Боец наносит удар из лука.\")"
   ]
  },
  {
   "cell_type": "code",
   "execution_count": 4,
   "metadata": {},
   "outputs": [],
   "source": [
    "#Модифицируйте класс Fighter\n",
    "#Добавьте в класс Fighter поле, которое будет хранить объект класса Weapon.\n",
    "#Добавьте метод change_weapon(), который позволяет изменить оружие бойц\n",
    "\n",
    "class Fighter:\n",
    "    def __init__(self, name):\n",
    "        self.name = name\n",
    "        self.weapon = None  \n",
    "\n",
    "    def change_weapon(self, weapon: Weapon):\n",
    "        self.weapon = weapon\n",
    "        print(f\"{self.name} выбирает {weapon.__class__.__name__}.\")\n",
    "\n",
    "    def attack(self, target):\n",
    "        if not self.weapon:\n",
    "            print(f\"{self.name} не может атаковать без оружия!\")\n",
    "            return\n",
    "        self.weapon.attack()\n",
    "        target.take_damage(10)  \n",
    "class Monster:\n",
    "    def __init__(self, health):\n",
    "        self.health = health\n",
    "\n",
    "    def take_damage(self, damage):\n",
    "        self.health -= damage\n",
    "        if self.health > 0:\n",
    "            print(f\"Монстр получил {damage} урона. Осталось здоровья: {self.health}\")\n",
    "        else:\n",
    "            print(\"Монстр побежден!\")"
   ]
  },
  {
   "cell_type": "code",
   "execution_count": 10,
   "metadata": {},
   "outputs": [
    {
     "ename": "NameError",
     "evalue": "name 'Sword' is not defined",
     "output_type": "error",
     "traceback": [
      "\u001b[1;31m---------------------------------------------------------------------------\u001b[0m",
      "\u001b[1;31mNameError\u001b[0m                                 Traceback (most recent call last)",
      "Cell \u001b[1;32mIn[10], line 23\u001b[0m\n\u001b[0;32m     20\u001b[0m     fighter\u001b[38;5;241m.\u001b[39mattack(monster)\n\u001b[0;32m     22\u001b[0m \u001b[38;5;28;01mif\u001b[39;00m \u001b[38;5;18m__name__\u001b[39m \u001b[38;5;241m==\u001b[39m \u001b[38;5;124m\"\u001b[39m\u001b[38;5;124m__main__\u001b[39m\u001b[38;5;124m\"\u001b[39m:\n\u001b[1;32m---> 23\u001b[0m     main()\n",
      "Cell \u001b[1;32mIn[10], line 10\u001b[0m, in \u001b[0;36mmain\u001b[1;34m()\u001b[0m\n\u001b[0;32m      7\u001b[0m monster \u001b[38;5;241m=\u001b[39m Monster(health\u001b[38;5;241m=\u001b[39m\u001b[38;5;241m10\u001b[39m)\n\u001b[0;32m      9\u001b[0m \u001b[38;5;66;03m# Боец выбирает меч и атакует\u001b[39;00m\n\u001b[1;32m---> 10\u001b[0m sword \u001b[38;5;241m=\u001b[39m Sword()\n\u001b[0;32m     11\u001b[0m fighter\u001b[38;5;241m.\u001b[39mchange_weapon(sword)\n\u001b[0;32m     12\u001b[0m fighter\u001b[38;5;241m.\u001b[39mattack(monster)\n",
      "\u001b[1;31mNameError\u001b[0m: name 'Sword' is not defined"
     ]
    }
   ],
   "source": [
    "#Реализация боя\n",
    "#Реализуйте простой механизм для демонстрации боя между бойцом и монстром, исходя из выбранного оружия.\n",
    "\n",
    "def main():\n",
    "    # Создаем бойца и монстра\n",
    "    fighter = Fighter(\"Боец\")\n",
    "    monster = Monster(health=10)\n",
    "\n",
    "    # Боец выбирает меч и атакует\n",
    "    sword = Sword()\n",
    "    fighter.change_weapon(sword)\n",
    "    fighter.attack(monster)\n",
    "\n",
    "    # Создаем нового монстра\n",
    "    monster = Monster(health=10)\n",
    "\n",
    "    # Боец выбирает лук и атакует\n",
    "    bow = Bow()\n",
    "    fighter.change_weapon(bow)\n",
    "    fighter.attack(monster)\n",
    "\n",
    "if __name__ == \"__main__\":\n",
    "    main()\n"
   ]
  }
 ],
 "metadata": {
  "kernelspec": {
   "display_name": "base",
   "language": "python",
   "name": "python3"
  },
  "language_info": {
   "codemirror_mode": {
    "name": "ipython",
    "version": 3
   },
   "file_extension": ".py",
   "mimetype": "text/x-python",
   "name": "python",
   "nbconvert_exporter": "python",
   "pygments_lexer": "ipython3",
   "version": "3.12.7"
  }
 },
 "nbformat": 4,
 "nbformat_minor": 2
}
